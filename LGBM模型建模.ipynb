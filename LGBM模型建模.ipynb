{
 "cells": [
  {
   "cell_type": "code",
   "execution_count": 1,
   "metadata": {},
   "outputs": [
    {
     "name": "stderr",
     "output_type": "stream",
     "text": [
      "/Library/Frameworks/Python.framework/Versions/3.7/lib/python3.7/site-packages/lightgbm/__init__.py:48: UserWarning: Starting from version 2.2.1, the library file in distribution wheels for macOS is built by the Apple Clang (Xcode_8.3.3) compiler.\n",
      "This means that in case of installing LightGBM from PyPI via the ``pip install lightgbm`` command, you don't need to install the gcc compiler anymore.\n",
      "Instead of that, you need to install the OpenMP library, which is required for running LightGBM on the system with the Apple Clang compiler.\n",
      "You can install the OpenMP library by the following command: ``brew install libomp``.\n",
      "  \"You can install the OpenMP library by the following command: ``brew install libomp``.\", UserWarning)\n"
     ]
    }
   ],
   "source": [
    "import pandas as pd\n",
    "import numpy as np\n",
    "from sklearn.metrics import roc_curve, roc_auc_score, auc\n",
    "from dateutil.relativedelta import relativedelta\n",
    "import lightgbm as lgb\n",
    "from sklearn.model_selection import train_test_split\n",
    "import matplotlib.pyplot as plt\n",
    "%matplotlib inline\n",
    "import seaborn as sns\n",
    "import datetime as dt\n",
    "import re\n",
    "from sklearn.feature_extraction import DictVectorizer\n",
    "from sklearn.model_selection import GridSearchCV\n",
    "pd.set_option('display.max_columns', None)\n",
    "import warnings\n",
    "warnings.filterwarnings('ignore')"
   ]
  },
  {
   "cell_type": "code",
   "execution_count": 2,
   "metadata": {},
   "outputs": [
    {
     "data": {
      "text/html": [
       "<div>\n",
       "<style scoped>\n",
       "    .dataframe tbody tr th:only-of-type {\n",
       "        vertical-align: middle;\n",
       "    }\n",
       "\n",
       "    .dataframe tbody tr th {\n",
       "        vertical-align: top;\n",
       "    }\n",
       "\n",
       "    .dataframe thead th {\n",
       "        text-align: right;\n",
       "    }\n",
       "</style>\n",
       "<table border=\"1\" class=\"dataframe\">\n",
       "  <thead>\n",
       "    <tr style=\"text-align: right;\">\n",
       "      <th></th>\n",
       "      <th>member_id</th>\n",
       "      <th>loan_amnt</th>\n",
       "      <th>term</th>\n",
       "      <th>loan_status</th>\n",
       "      <th>int_rate</th>\n",
       "      <th>emp_length</th>\n",
       "      <th>home_ownership</th>\n",
       "      <th>annual_inc</th>\n",
       "      <th>verification_status</th>\n",
       "      <th>desc</th>\n",
       "      <th>purpose</th>\n",
       "      <th>title</th>\n",
       "      <th>zip_code</th>\n",
       "      <th>addr_state</th>\n",
       "      <th>dti</th>\n",
       "      <th>delinq_2yrs</th>\n",
       "      <th>inq_last_6mths</th>\n",
       "      <th>mths_since_last_delinq</th>\n",
       "      <th>mths_since_last_record</th>\n",
       "      <th>open_acc</th>\n",
       "      <th>pub_rec</th>\n",
       "      <th>total_acc</th>\n",
       "      <th>pub_rec_bankruptcies</th>\n",
       "      <th>issue_d</th>\n",
       "      <th>earliest_cr_line</th>\n",
       "    </tr>\n",
       "  </thead>\n",
       "  <tbody>\n",
       "    <tr>\n",
       "      <th>0</th>\n",
       "      <td>1</td>\n",
       "      <td>5000</td>\n",
       "      <td>36 months</td>\n",
       "      <td>Fully Paid</td>\n",
       "      <td>10.65%</td>\n",
       "      <td>10+ years</td>\n",
       "      <td>RENT</td>\n",
       "      <td>24000.0</td>\n",
       "      <td>Verified</td>\n",
       "      <td>Borrower added on 12/22/11 &gt; I need to upgra...</td>\n",
       "      <td>credit_card</td>\n",
       "      <td>Computer</td>\n",
       "      <td>860xx</td>\n",
       "      <td>AZ</td>\n",
       "      <td>27.65</td>\n",
       "      <td>0</td>\n",
       "      <td>1</td>\n",
       "      <td>NaN</td>\n",
       "      <td>NaN</td>\n",
       "      <td>3</td>\n",
       "      <td>0</td>\n",
       "      <td>9</td>\n",
       "      <td>0.0</td>\n",
       "      <td>Dec-11</td>\n",
       "      <td>Jan-85</td>\n",
       "    </tr>\n",
       "    <tr>\n",
       "      <th>1</th>\n",
       "      <td>2</td>\n",
       "      <td>2500</td>\n",
       "      <td>60 months</td>\n",
       "      <td>Charged Off</td>\n",
       "      <td>15.27%</td>\n",
       "      <td>&lt; 1 year</td>\n",
       "      <td>RENT</td>\n",
       "      <td>30000.0</td>\n",
       "      <td>Source Verified</td>\n",
       "      <td>Borrower added on 12/22/11 &gt; I plan to use t...</td>\n",
       "      <td>car</td>\n",
       "      <td>bike</td>\n",
       "      <td>309xx</td>\n",
       "      <td>GA</td>\n",
       "      <td>1.00</td>\n",
       "      <td>0</td>\n",
       "      <td>5</td>\n",
       "      <td>NaN</td>\n",
       "      <td>NaN</td>\n",
       "      <td>3</td>\n",
       "      <td>0</td>\n",
       "      <td>4</td>\n",
       "      <td>0.0</td>\n",
       "      <td>Dec-11</td>\n",
       "      <td>Apr-99</td>\n",
       "    </tr>\n",
       "    <tr>\n",
       "      <th>2</th>\n",
       "      <td>3</td>\n",
       "      <td>2400</td>\n",
       "      <td>36 months</td>\n",
       "      <td>Fully Paid</td>\n",
       "      <td>15.96%</td>\n",
       "      <td>10+ years</td>\n",
       "      <td>RENT</td>\n",
       "      <td>12252.0</td>\n",
       "      <td>Not Verified</td>\n",
       "      <td>NaN</td>\n",
       "      <td>small_business</td>\n",
       "      <td>real estate business</td>\n",
       "      <td>606xx</td>\n",
       "      <td>IL</td>\n",
       "      <td>8.72</td>\n",
       "      <td>0</td>\n",
       "      <td>2</td>\n",
       "      <td>NaN</td>\n",
       "      <td>NaN</td>\n",
       "      <td>2</td>\n",
       "      <td>0</td>\n",
       "      <td>10</td>\n",
       "      <td>0.0</td>\n",
       "      <td>Dec-11</td>\n",
       "      <td>Nov-01</td>\n",
       "    </tr>\n",
       "    <tr>\n",
       "      <th>3</th>\n",
       "      <td>4</td>\n",
       "      <td>10000</td>\n",
       "      <td>36 months</td>\n",
       "      <td>Fully Paid</td>\n",
       "      <td>13.49%</td>\n",
       "      <td>10+ years</td>\n",
       "      <td>RENT</td>\n",
       "      <td>49200.0</td>\n",
       "      <td>Source Verified</td>\n",
       "      <td>Borrower added on 12/21/11 &gt; to pay for prop...</td>\n",
       "      <td>other</td>\n",
       "      <td>personel</td>\n",
       "      <td>917xx</td>\n",
       "      <td>CA</td>\n",
       "      <td>20.00</td>\n",
       "      <td>0</td>\n",
       "      <td>1</td>\n",
       "      <td>35.0</td>\n",
       "      <td>NaN</td>\n",
       "      <td>10</td>\n",
       "      <td>0</td>\n",
       "      <td>37</td>\n",
       "      <td>0.0</td>\n",
       "      <td>Dec-11</td>\n",
       "      <td>Feb-96</td>\n",
       "    </tr>\n",
       "    <tr>\n",
       "      <th>4</th>\n",
       "      <td>5</td>\n",
       "      <td>3000</td>\n",
       "      <td>60 months</td>\n",
       "      <td>Fully Paid</td>\n",
       "      <td>12.69%</td>\n",
       "      <td>1 year</td>\n",
       "      <td>RENT</td>\n",
       "      <td>80000.0</td>\n",
       "      <td>Source Verified</td>\n",
       "      <td>Borrower added on 12/21/11 &gt; I plan on combi...</td>\n",
       "      <td>other</td>\n",
       "      <td>Personal</td>\n",
       "      <td>972xx</td>\n",
       "      <td>OR</td>\n",
       "      <td>17.94</td>\n",
       "      <td>0</td>\n",
       "      <td>0</td>\n",
       "      <td>38.0</td>\n",
       "      <td>NaN</td>\n",
       "      <td>15</td>\n",
       "      <td>0</td>\n",
       "      <td>38</td>\n",
       "      <td>0.0</td>\n",
       "      <td>Dec-11</td>\n",
       "      <td>Jan-96</td>\n",
       "    </tr>\n",
       "  </tbody>\n",
       "</table>\n",
       "</div>"
      ],
      "text/plain": [
       "   member_id  loan_amnt        term  loan_status int_rate emp_length  \\\n",
       "0          1       5000   36 months   Fully Paid   10.65%  10+ years   \n",
       "1          2       2500   60 months  Charged Off   15.27%   < 1 year   \n",
       "2          3       2400   36 months   Fully Paid   15.96%  10+ years   \n",
       "3          4      10000   36 months   Fully Paid   13.49%  10+ years   \n",
       "4          5       3000   60 months   Fully Paid   12.69%     1 year   \n",
       "\n",
       "  home_ownership  annual_inc verification_status  \\\n",
       "0           RENT     24000.0            Verified   \n",
       "1           RENT     30000.0     Source Verified   \n",
       "2           RENT     12252.0        Not Verified   \n",
       "3           RENT     49200.0     Source Verified   \n",
       "4           RENT     80000.0     Source Verified   \n",
       "\n",
       "                                                desc         purpose  \\\n",
       "0    Borrower added on 12/22/11 > I need to upgra...     credit_card   \n",
       "1    Borrower added on 12/22/11 > I plan to use t...             car   \n",
       "2                                                NaN  small_business   \n",
       "3    Borrower added on 12/21/11 > to pay for prop...           other   \n",
       "4    Borrower added on 12/21/11 > I plan on combi...           other   \n",
       "\n",
       "                  title zip_code addr_state    dti  delinq_2yrs  \\\n",
       "0              Computer    860xx         AZ  27.65            0   \n",
       "1                  bike    309xx         GA   1.00            0   \n",
       "2  real estate business    606xx         IL   8.72            0   \n",
       "3              personel    917xx         CA  20.00            0   \n",
       "4              Personal    972xx         OR  17.94            0   \n",
       "\n",
       "   inq_last_6mths  mths_since_last_delinq  mths_since_last_record  open_acc  \\\n",
       "0               1                     NaN                     NaN         3   \n",
       "1               5                     NaN                     NaN         3   \n",
       "2               2                     NaN                     NaN         2   \n",
       "3               1                    35.0                     NaN        10   \n",
       "4               0                    38.0                     NaN        15   \n",
       "\n",
       "   pub_rec  total_acc  pub_rec_bankruptcies issue_d earliest_cr_line  \n",
       "0        0          9                   0.0  Dec-11           Jan-85  \n",
       "1        0          4                   0.0  Dec-11           Apr-99  \n",
       "2        0         10                   0.0  Dec-11           Nov-01  \n",
       "3        0         37                   0.0  Dec-11           Feb-96  \n",
       "4        0         38                   0.0  Dec-11           Jan-96  "
      ]
     },
     "execution_count": 2,
     "metadata": {},
     "output_type": "execute_result"
    }
   ],
   "source": [
    "df = pd.read_csv('data/f700.csv', encoding = 'latin1')\n",
    "df.head()"
   ]
  },
  {
   "cell_type": "code",
   "execution_count": 3,
   "metadata": {},
   "outputs": [
    {
     "data": {
      "text/plain": [
       "member_id                     0\n",
       "loan_amnt                     0\n",
       "term                          0\n",
       "loan_status                   0\n",
       "int_rate                      0\n",
       "emp_length                 1078\n",
       "home_ownership                0\n",
       "annual_inc                    0\n",
       "verification_status           0\n",
       "desc                      12967\n",
       "purpose                       0\n",
       "title                        11\n",
       "zip_code                      0\n",
       "addr_state                    0\n",
       "dti                           0\n",
       "delinq_2yrs                   0\n",
       "inq_last_6mths                0\n",
       "mths_since_last_delinq    25727\n",
       "mths_since_last_record    36994\n",
       "open_acc                      0\n",
       "pub_rec                       0\n",
       "total_acc                     0\n",
       "pub_rec_bankruptcies        697\n",
       "issue_d                       0\n",
       "earliest_cr_line              0\n",
       "dtype: int64"
      ]
     },
     "execution_count": 3,
     "metadata": {},
     "output_type": "execute_result"
    }
   ],
   "source": [
    "df.isnull().sum()"
   ]
  },
  {
   "cell_type": "code",
   "execution_count": 4,
   "metadata": {},
   "outputs": [],
   "source": [
    "df.term = df.term.str.replace('months', '').astype('float') #处理term变量中的数据 改为连续值\n",
    "df['bad_id'] = df.loan_status.apply(lambda x: int(x == 'Charged Off')) #将loan_status转换为我们的y值\n",
    "df['int_rate'] = df.int_rate.apply(lambda x: float(x.replace('%', ''))/100) #将利率数据数值化\n",
    "df.desc = df.desc.apply(lambda x : 0 if str(x) == 'nan' else 1) # 将文字型变量简单根据是否空缺分为0，1值"
   ]
  },
  {
   "cell_type": "code",
   "execution_count": 5,
   "metadata": {},
   "outputs": [],
   "source": [
    "def year_clean(x):\n",
    "    if x == '< 1 year':\n",
    "        return 0\n",
    "    elif x == '10+ years':\n",
    "        return 11\n",
    "    elif str(x) == 'nan':\n",
    "        return 1\n",
    "    else:\n",
    "        return int(re.sub(r'\\D+', '', x))\n",
    "    \n",
    "df.emp_length = df.emp_length.apply(lambda x: year_clean(x)) # 用正则表达式 对year类数据进行清理"
   ]
  },
  {
   "cell_type": "code",
   "execution_count": 6,
   "metadata": {},
   "outputs": [
    {
     "data": {
      "text/plain": [
       "datetime.datetime(2017, 3, 1, 0, 0)"
      ]
     },
     "execution_count": 6,
     "metadata": {},
     "output_type": "execute_result"
    }
   ],
   "source": [
    "dt.datetime(2017,3,1)"
   ]
  },
  {
   "cell_type": "code",
   "execution_count": 7,
   "metadata": {},
   "outputs": [],
   "source": [
    "def time_clean(x):\n",
    "    if str(x) == 'nan':\n",
    "        return dt.datetime(1900,1,1)\n",
    "    map1 = {\n",
    "        'Jan': 1,\n",
    "        'Feb': 2,\n",
    "        'Mar': 3,\n",
    "        'Apr': 4,\n",
    "        'May': 5,\n",
    "        'Jun': 6,\n",
    "        'Jul': 7,\n",
    "        'Aug': 8,\n",
    "        'Sep': 9,\n",
    "        'Oct': 10,\n",
    "        'Nov': 11,\n",
    "        'Dec': 12\n",
    "    }\n",
    "    m = map1[x[:3]]\n",
    "    y = int(x[-2:])\n",
    "    if y >= 20:\n",
    "        y = y + 1900\n",
    "    else:\n",
    "        y = y+2000\n",
    "    return dt.datetime(y,m,1)\n",
    "df.issue_d = df.issue_d.apply(lambda x : time_clean(x))\n",
    "df.earliest_cr_line = df.earliest_cr_line.apply(lambda x: time_clean(x)) #清理时间数据 将起转换为dt格式"
   ]
  },
  {
   "cell_type": "code",
   "execution_count": 8,
   "metadata": {},
   "outputs": [
    {
     "data": {
      "text/plain": [
       "member_id                     0\n",
       "loan_amnt                     0\n",
       "term                          0\n",
       "loan_status                   0\n",
       "int_rate                      0\n",
       "emp_length                    0\n",
       "home_ownership                0\n",
       "annual_inc                    0\n",
       "verification_status           0\n",
       "desc                          0\n",
       "purpose                       0\n",
       "title                        11\n",
       "zip_code                      0\n",
       "addr_state                    0\n",
       "dti                           0\n",
       "delinq_2yrs                   0\n",
       "inq_last_6mths                0\n",
       "mths_since_last_delinq    25727\n",
       "mths_since_last_record    36994\n",
       "open_acc                      0\n",
       "pub_rec                       0\n",
       "total_acc                     0\n",
       "pub_rec_bankruptcies        697\n",
       "issue_d                       0\n",
       "earliest_cr_line              0\n",
       "bad_id                        0\n",
       "dtype: int64"
      ]
     },
     "execution_count": 8,
     "metadata": {},
     "output_type": "execute_result"
    }
   ],
   "source": [
    "df.isnull().sum()"
   ]
  },
  {
   "cell_type": "code",
   "execution_count": 9,
   "metadata": {},
   "outputs": [],
   "source": [
    "df.dropna(subset = ['title'], axis = 0, inplace=True)# 因为title变量的缺失值较少 我们直接采用删除的策略\n",
    "df.fillna(-1, inplace=True) #其他缺失值较多的 我们用-1 代替"
   ]
  },
  {
   "cell_type": "code",
   "execution_count": 10,
   "metadata": {},
   "outputs": [],
   "source": [
    "# 变量衍生 这里 我们采用 收入负债占比 和时间差两个做衍生\n",
    "df['debt_income_rate'] = round(df['loan_amnt'] / df['annual_inc'],2)\n",
    "def time_period(x,y):\n",
    "    if x > y:\n",
    "        gap = relativedelta(x, y)\n",
    "        m = gap.months\n",
    "        y = gap.years\n",
    "        return y*12 + m\n",
    "    else:\n",
    "        return 0\n",
    "    \n",
    "df['time_gap'] = df.apply(lambda x: time_period(x.issue_d, x.earliest_cr_line), axis=1)\n",
    "df = df[df.term == 36]   # 因为不同时间数据集差距较大 为了模型的准确性 我们用同一时间的数据集进行建模  "
   ]
  },
  {
   "cell_type": "code",
   "execution_count": 11,
   "metadata": {},
   "outputs": [
    {
     "data": {
      "text/html": [
       "<div>\n",
       "<style scoped>\n",
       "    .dataframe tbody tr th:only-of-type {\n",
       "        vertical-align: middle;\n",
       "    }\n",
       "\n",
       "    .dataframe tbody tr th {\n",
       "        vertical-align: top;\n",
       "    }\n",
       "\n",
       "    .dataframe thead th {\n",
       "        text-align: right;\n",
       "    }\n",
       "</style>\n",
       "<table border=\"1\" class=\"dataframe\">\n",
       "  <thead>\n",
       "    <tr style=\"text-align: right;\">\n",
       "      <th></th>\n",
       "      <th>member_id</th>\n",
       "      <th>loan_amnt</th>\n",
       "      <th>term</th>\n",
       "      <th>loan_status</th>\n",
       "      <th>int_rate</th>\n",
       "      <th>emp_length</th>\n",
       "      <th>home_ownership</th>\n",
       "      <th>annual_inc</th>\n",
       "      <th>verification_status</th>\n",
       "      <th>desc</th>\n",
       "      <th>purpose</th>\n",
       "      <th>title</th>\n",
       "      <th>zip_code</th>\n",
       "      <th>addr_state</th>\n",
       "      <th>dti</th>\n",
       "      <th>delinq_2yrs</th>\n",
       "      <th>inq_last_6mths</th>\n",
       "      <th>mths_since_last_delinq</th>\n",
       "      <th>mths_since_last_record</th>\n",
       "      <th>open_acc</th>\n",
       "      <th>pub_rec</th>\n",
       "      <th>total_acc</th>\n",
       "      <th>pub_rec_bankruptcies</th>\n",
       "      <th>issue_d</th>\n",
       "      <th>earliest_cr_line</th>\n",
       "      <th>bad_id</th>\n",
       "      <th>debt_income_rate</th>\n",
       "      <th>time_gap</th>\n",
       "    </tr>\n",
       "  </thead>\n",
       "  <tbody>\n",
       "    <tr>\n",
       "      <th>0</th>\n",
       "      <td>1</td>\n",
       "      <td>5000</td>\n",
       "      <td>36.0</td>\n",
       "      <td>Fully Paid</td>\n",
       "      <td>0.1065</td>\n",
       "      <td>11</td>\n",
       "      <td>RENT</td>\n",
       "      <td>24000.0</td>\n",
       "      <td>Verified</td>\n",
       "      <td>1</td>\n",
       "      <td>credit_card</td>\n",
       "      <td>Computer</td>\n",
       "      <td>860xx</td>\n",
       "      <td>AZ</td>\n",
       "      <td>27.65</td>\n",
       "      <td>0</td>\n",
       "      <td>1</td>\n",
       "      <td>-1.0</td>\n",
       "      <td>-1.0</td>\n",
       "      <td>3</td>\n",
       "      <td>0</td>\n",
       "      <td>9</td>\n",
       "      <td>0.0</td>\n",
       "      <td>2011-12-01</td>\n",
       "      <td>1985-01-01</td>\n",
       "      <td>0</td>\n",
       "      <td>0.21</td>\n",
       "      <td>323</td>\n",
       "    </tr>\n",
       "    <tr>\n",
       "      <th>2</th>\n",
       "      <td>3</td>\n",
       "      <td>2400</td>\n",
       "      <td>36.0</td>\n",
       "      <td>Fully Paid</td>\n",
       "      <td>0.1596</td>\n",
       "      <td>11</td>\n",
       "      <td>RENT</td>\n",
       "      <td>12252.0</td>\n",
       "      <td>Not Verified</td>\n",
       "      <td>0</td>\n",
       "      <td>small_business</td>\n",
       "      <td>real estate business</td>\n",
       "      <td>606xx</td>\n",
       "      <td>IL</td>\n",
       "      <td>8.72</td>\n",
       "      <td>0</td>\n",
       "      <td>2</td>\n",
       "      <td>-1.0</td>\n",
       "      <td>-1.0</td>\n",
       "      <td>2</td>\n",
       "      <td>0</td>\n",
       "      <td>10</td>\n",
       "      <td>0.0</td>\n",
       "      <td>2011-12-01</td>\n",
       "      <td>2001-11-01</td>\n",
       "      <td>0</td>\n",
       "      <td>0.20</td>\n",
       "      <td>121</td>\n",
       "    </tr>\n",
       "    <tr>\n",
       "      <th>3</th>\n",
       "      <td>4</td>\n",
       "      <td>10000</td>\n",
       "      <td>36.0</td>\n",
       "      <td>Fully Paid</td>\n",
       "      <td>0.1349</td>\n",
       "      <td>11</td>\n",
       "      <td>RENT</td>\n",
       "      <td>49200.0</td>\n",
       "      <td>Source Verified</td>\n",
       "      <td>1</td>\n",
       "      <td>other</td>\n",
       "      <td>personel</td>\n",
       "      <td>917xx</td>\n",
       "      <td>CA</td>\n",
       "      <td>20.00</td>\n",
       "      <td>0</td>\n",
       "      <td>1</td>\n",
       "      <td>35.0</td>\n",
       "      <td>-1.0</td>\n",
       "      <td>10</td>\n",
       "      <td>0</td>\n",
       "      <td>37</td>\n",
       "      <td>0.0</td>\n",
       "      <td>2011-12-01</td>\n",
       "      <td>1996-02-01</td>\n",
       "      <td>0</td>\n",
       "      <td>0.20</td>\n",
       "      <td>190</td>\n",
       "    </tr>\n",
       "    <tr>\n",
       "      <th>5</th>\n",
       "      <td>6</td>\n",
       "      <td>5000</td>\n",
       "      <td>36.0</td>\n",
       "      <td>Fully Paid</td>\n",
       "      <td>0.0790</td>\n",
       "      <td>3</td>\n",
       "      <td>RENT</td>\n",
       "      <td>36000.0</td>\n",
       "      <td>Source Verified</td>\n",
       "      <td>0</td>\n",
       "      <td>wedding</td>\n",
       "      <td>My wedding loan I promise to pay back</td>\n",
       "      <td>852xx</td>\n",
       "      <td>AZ</td>\n",
       "      <td>11.20</td>\n",
       "      <td>0</td>\n",
       "      <td>3</td>\n",
       "      <td>-1.0</td>\n",
       "      <td>-1.0</td>\n",
       "      <td>9</td>\n",
       "      <td>0</td>\n",
       "      <td>12</td>\n",
       "      <td>0.0</td>\n",
       "      <td>2011-12-01</td>\n",
       "      <td>2004-11-01</td>\n",
       "      <td>0</td>\n",
       "      <td>0.14</td>\n",
       "      <td>85</td>\n",
       "    </tr>\n",
       "    <tr>\n",
       "      <th>7</th>\n",
       "      <td>8</td>\n",
       "      <td>3000</td>\n",
       "      <td>36.0</td>\n",
       "      <td>Fully Paid</td>\n",
       "      <td>0.1864</td>\n",
       "      <td>9</td>\n",
       "      <td>RENT</td>\n",
       "      <td>48000.0</td>\n",
       "      <td>Source Verified</td>\n",
       "      <td>1</td>\n",
       "      <td>car</td>\n",
       "      <td>Car Downpayment</td>\n",
       "      <td>900xx</td>\n",
       "      <td>CA</td>\n",
       "      <td>5.35</td>\n",
       "      <td>0</td>\n",
       "      <td>2</td>\n",
       "      <td>-1.0</td>\n",
       "      <td>-1.0</td>\n",
       "      <td>4</td>\n",
       "      <td>0</td>\n",
       "      <td>4</td>\n",
       "      <td>0.0</td>\n",
       "      <td>2011-12-01</td>\n",
       "      <td>2007-01-01</td>\n",
       "      <td>0</td>\n",
       "      <td>0.06</td>\n",
       "      <td>59</td>\n",
       "    </tr>\n",
       "  </tbody>\n",
       "</table>\n",
       "</div>"
      ],
      "text/plain": [
       "   member_id  loan_amnt  term loan_status  int_rate  emp_length  \\\n",
       "0          1       5000  36.0  Fully Paid    0.1065          11   \n",
       "2          3       2400  36.0  Fully Paid    0.1596          11   \n",
       "3          4      10000  36.0  Fully Paid    0.1349          11   \n",
       "5          6       5000  36.0  Fully Paid    0.0790           3   \n",
       "7          8       3000  36.0  Fully Paid    0.1864           9   \n",
       "\n",
       "  home_ownership  annual_inc verification_status  desc         purpose  \\\n",
       "0           RENT     24000.0            Verified     1     credit_card   \n",
       "2           RENT     12252.0        Not Verified     0  small_business   \n",
       "3           RENT     49200.0     Source Verified     1           other   \n",
       "5           RENT     36000.0     Source Verified     0         wedding   \n",
       "7           RENT     48000.0     Source Verified     1             car   \n",
       "\n",
       "                                   title zip_code addr_state    dti  \\\n",
       "0                               Computer    860xx         AZ  27.65   \n",
       "2                   real estate business    606xx         IL   8.72   \n",
       "3                               personel    917xx         CA  20.00   \n",
       "5  My wedding loan I promise to pay back    852xx         AZ  11.20   \n",
       "7                        Car Downpayment    900xx         CA   5.35   \n",
       "\n",
       "   delinq_2yrs  inq_last_6mths  mths_since_last_delinq  \\\n",
       "0            0               1                    -1.0   \n",
       "2            0               2                    -1.0   \n",
       "3            0               1                    35.0   \n",
       "5            0               3                    -1.0   \n",
       "7            0               2                    -1.0   \n",
       "\n",
       "   mths_since_last_record  open_acc  pub_rec  total_acc  pub_rec_bankruptcies  \\\n",
       "0                    -1.0         3        0          9                   0.0   \n",
       "2                    -1.0         2        0         10                   0.0   \n",
       "3                    -1.0        10        0         37                   0.0   \n",
       "5                    -1.0         9        0         12                   0.0   \n",
       "7                    -1.0         4        0          4                   0.0   \n",
       "\n",
       "     issue_d earliest_cr_line  bad_id  debt_income_rate  time_gap  \n",
       "0 2011-12-01       1985-01-01       0              0.21       323  \n",
       "2 2011-12-01       2001-11-01       0              0.20       121  \n",
       "3 2011-12-01       1996-02-01       0              0.20       190  \n",
       "5 2011-12-01       2004-11-01       0              0.14        85  \n",
       "7 2011-12-01       2007-01-01       0              0.06        59  "
      ]
     },
     "execution_count": 11,
     "metadata": {},
     "output_type": "execute_result"
    }
   ],
   "source": [
    "df.head()"
   ]
  },
  {
   "cell_type": "code",
   "execution_count": 12,
   "metadata": {},
   "outputs": [],
   "source": [
    "df2 = df.copy() #数据集分为 训练集和测试集\n",
    "num_features = [\n",
    "    'loan_amnt', 'int_rate', 'emp_length', 'annual_inc', 'desc', 'dti',\n",
    "    'delinq_2yrs', 'inq_last_6mths', 'mths_since_last_delinq',\n",
    "    'mths_since_last_record', 'open_acc', 'pub_rec', 'total_acc',\n",
    "    'pub_rec_bankruptcies', 'debt_income_rate', 'time_gap'\n",
    "]\n",
    "dis_features = ['home_ownership', 'verification_status', 'purpose', 'zip_code', 'addr_state'] #将不同的变量分为数值类 和离散类"
   ]
  },
  {
   "cell_type": "code",
   "execution_count": 13,
   "metadata": {},
   "outputs": [],
   "source": [
    "V = DictVectorizer(sparse=False)\n",
    "x1 = V.fit_transform(df2[dis_features].to_dict('record')) # 这里我们采用热编码的形式对离散型变量进行处理 转为数值型 然后放入一起做训练\n",
    "x2 = df2[num_features].as_matrix()\n",
    "X3 = np.hstack([x1,x2])\n",
    "x_train, x_test, y_train, y_test  = train_test_split(X3, df2['bad_id'],test_size = 0.3, random_state = 0)"
   ]
  },
  {
   "cell_type": "code",
   "execution_count": 14,
   "metadata": {},
   "outputs": [],
   "source": [
    "model1 = lgb.LGBMClassifier(random_state = 0) # 这里我们简单定义下 一般常用参数，后面会做进一步的调参\n",
    "column = ['x' + str(y) for y in range(1, 901)]\n",
    "x_train = pd.DataFrame(x_train, columns = column)\n",
    "x_test = pd.DataFrame(x_test, columns = column)"
   ]
  },
  {
   "cell_type": "code",
   "execution_count": 17,
   "metadata": {},
   "outputs": [],
   "source": [
    "model1.fit(x_train, y_train)\n",
    "feature = pd.DataFrame({\n",
    "    'feature': model1.booster_.feature_name(),\n",
    "    'importance': model1.feature_importances_\n",
    "}).sort_values(\n",
    "    by='importance', ascending=False)\n",
    "features = feature.loc[feature.importance >= 10, 'feature'].to_list() # 这里做一个变量筛选，我们将根据模型重要度>10的变量提取出来"
   ]
  },
  {
   "cell_type": "code",
   "execution_count": 18,
   "metadata": {},
   "outputs": [],
   "source": [
    "x_train = x_train[features]\n",
    "x_test = x_test[features]"
   ]
  },
  {
   "cell_type": "code",
   "execution_count": 20,
   "metadata": {},
   "outputs": [
    {
     "data": {
      "image/png": "[encoded data removed]",
      "text/plain": [
       "<Figure size 432x288 with 1 Axes>"
      ]
     },
     "metadata": {
      "needs_background": "light"
     },
     "output_type": "display_data"
    },
    {
     "data": {
      "text/plain": [
       "(0.6384720061454183,\n",
       " 0.2418808704349213,\n",
       " array([0.09207887, 0.14338334, 0.15076731, ..., 0.04533792, 0.13544863,\n",
       "        0.09957524]))"
      ]
     },
     "execution_count": 20,
     "metadata": {},
     "output_type": "execute_result"
    }
   ],
   "source": [
    "def ks_plot(x1,y1,x2,y2, model):\n",
    "    model.fit(x1,y1)\n",
    "    predict_1 = model.predict_proba(x1)[:, 1]\n",
    "    predict_2 = model.predict_proba(x2)[:, 1]\n",
    "    fpr1, tpr1, _= roc_curve(y1, predict_1)\n",
    "    fpr2, tpr2, _= roc_curve(y2, predict_2)\n",
    "    ks_train = abs(fpr1 - tpr1).max()\n",
    "    ks_test = abs(fpr2 - tpr2).max()\n",
    "    plt.plot(fpr1, tpr1, label = 'Train')\n",
    "    plt.plot(fpr2, tpr2, label = 'Test')\n",
    "    plt.plot([0,1], [0,1], 'k--')\n",
    "    plt.legend(loc='best')\n",
    "    plt.xlabel('FPR')\n",
    "    plt.ylabel('Tpr')\n",
    "    plt.title('ROC Curve')\n",
    "    plt.show()\n",
    "    return ks_train, ks_test,predict_2\n",
    "ks_plot(x_train, y_train, x_test, y_test, model1)"
   ]
  },
  {
   "cell_type": "code",
   "execution_count": 21,
   "metadata": {},
   "outputs": [
    {
     "name": "stdout",
     "output_type": "stream",
     "text": [
      "best n_estimators: 57\n",
      "best cv score: 0.6743147674514793\n"
     ]
    }
   ],
   "source": [
    "# 开始调参\n",
    "# 1. 确定最大迭代次数 即n_estimator\n",
    "params = {\n",
    "    'boosting_type': 'gbdt',\n",
    "    'objective': 'binary',\n",
    "    'metric': 'auc',\n",
    "    'nthread': 4,\n",
    "    'learning_rate': 0.1,\n",
    "    'num_leaves': 30,\n",
    "    'max_depth': 5,\n",
    "    'subsample': 0.8,\n",
    "    'colsample_bytree': 0.8\n",
    "}\n",
    "data_train = lgb.Dataset(x_train, y_train)\n",
    "cv_results = lgb.cv(\n",
    "    params,\n",
    "    data_train,\n",
    "    num_boost_round=1000,\n",
    "    nfold=5,\n",
    "    stratified=False,\n",
    "    shuffle=True,\n",
    "    metrics='auc',\n",
    "    early_stopping_rounds=50,\n",
    "    seed=0)\n",
    "print('best n_estimators:', len(cv_results['auc-mean']))\n",
    "print('best cv score:', pd.Series(cv_results['auc-mean']).max())"
   ]
  },
  {
   "cell_type": "code",
   "execution_count": 22,
   "metadata": {},
   "outputs": [
    {
     "data": {
      "text/plain": [
       "(LGBMClassifier(boosting_type='gbdt', class_weight=None, colsample_bytree=1.0,\n",
       "                importance_type='split', learning_rate=0.1, matrics='auc',\n",
       "                max_depth=5, min_child_samples=20, min_child_weight=0.001,\n",
       "                min_split_gain=0.0, n_estimators=44, n_jobs=-1, num_leaves=15,\n",
       "                objective='binary', random_state=None, reg_alpha=0.0,\n",
       "                reg_lambda=0.0, silent=True, subsample=1.0,\n",
       "                subsample_for_bin=200000, subsample_freq=0),\n",
       " {'max_depth': 5, 'num_leaves': 15},\n",
       " 0.6797498913780683)"
      ]
     },
     "execution_count": 22,
     "metadata": {},
     "output_type": "execute_result"
    }
   ],
   "source": [
    "#第二步 确定max_depth 和num_leaves\n",
    "param_test1 = {'max_depth': range(3, 8, 1), 'num_leaves': range(5, 100, 5)}\n",
    "grid1 = GridSearchCV(\n",
    "    estimator=lgb.LGBMClassifier(\n",
    "        boosting_type='gbdt',\n",
    "        objective='binary',\n",
    "        matrics='auc',\n",
    "        learning_rate=0.1,\n",
    "        n_estimators=44,\n",
    "        max_depth=6),\n",
    "        scoring='roc_auc',\n",
    "        cv=5,\n",
    "        n_jobs=-1,\n",
    "        param_grid=param_test1)\n",
    "\n",
    "grid1.fit(x_train, y_train)\n",
    "\n",
    "grid1.best_estimator_, grid1.best_params_, grid1.best_score_"
   ]
  },
  {
   "cell_type": "code",
   "execution_count": 23,
   "metadata": {},
   "outputs": [
    {
     "data": {
      "text/plain": [
       "(LGBMClassifier(boosting='gbdt', boosting_type='gbdt', class_weight=None,\n",
       "                colsample_bytree=1.0, importance_type='split', learning_rate=0.1,\n",
       "                matrics='auc', max_depth=5, min_child_samples=20,\n",
       "                min_child_weight=0.001, min_data_in=5, min_data_in_leaf=61,\n",
       "                min_split_gain=0.0, n_estimators=44, n_jobs=-1, num_leaves=10,\n",
       "                objective='binary', random_state=None, reg_alpha=0.0,\n",
       "                reg_lambda=0.0, silent=True, subsample=1.0,\n",
       "                subsample_for_bin=200000, subsample_freq=0),\n",
       " {'min_data_in': 5, 'min_data_in_leaf': 61},\n",
       " 0.6810960907836431)"
      ]
     },
     "execution_count": 23,
     "metadata": {},
     "output_type": "execute_result"
    }
   ],
   "source": [
    "# 第三步 确定min_data_in_leaf 和max_bin \n",
    "param_test2 = {'min_data_in': range(5,256,10), 'min_data_in_leaf': range(1,102,10)}\n",
    "grid2 = GridSearchCV(estimator = lgb.LGBMClassifier(boosting = 'gbdt', objective = 'binary', matrics = 'auc', learning_rate =0.1, n_estimators = 44, max_depth = 5, num_leaves = 10),param_grid = param_test2, scoring = 'roc_auc', cv = 5, n_jobs = -1)\n",
    "\n",
    "grid2.fit(x_train, y_train)\n",
    "grid2.best_estimator_, grid2.best_params_, grid2.best_score_"
   ]
  },
  {
   "cell_type": "code",
   "execution_count": 24,
   "metadata": {},
   "outputs": [
    {
     "data": {
      "text/plain": [
       "(LGBMClassifier(bagging_fraction=0.6, bagging_freq=0, boosting='gbdt',\n",
       "                boosting_type='gbdt', class_weight=None, colsample_bytree=1.0,\n",
       "                feature_fraction=0.6, importance_type='split', learning_rate=0.1,\n",
       "                matrics='auc', max_depth=5, min_child_samples=20,\n",
       "                min_child_weight=0.001, min_data_in=5, min_data_in_leaf=21,\n",
       "                min_split_gain=0.0, n_estimators=44, n_jobs=-1, num_leaves=10,\n",
       "                objective='binary', random_state=None, reg_alpha=0.0,\n",
       "                reg_lambda=0.0, silent=True, subsample=1.0,\n",
       "                subsample_for_bin=200000, subsample_freq=0),\n",
       " {'bagging_fraction': 0.6, 'bagging_freq': 0, 'feature_fraction': 0.6},\n",
       " 0.6810120650231197)"
      ]
     },
     "execution_count": 24,
     "metadata": {},
     "output_type": "execute_result"
    }
   ],
   "source": [
    "# 第四步 确定feature_fraction bagging_fraction, bagging_freq\n",
    "param_test3 = {\n",
    "    'feature_fraction': [0.6, 0.7, 0.8, 0.9, 1.0],\n",
    "    'bagging_fraction': [0.6, 0.7, 0.8, 0.9, 1.0],\n",
    "    'bagging_freq': range(0, 81, 10)\n",
    "}\n",
    "grid3 = GridSearchCV(\n",
    "    estimator=lgb.LGBMClassifier(\n",
    "        boosting='gbdt',\n",
    "        objective='binary',\n",
    "        matrics='auc',\n",
    "        learning_rate=0.1,\n",
    "        n_estimators=44,\n",
    "        max_depth=5,\n",
    "        num_leaves=10,\n",
    "        min_data_in=5,\n",
    "        min_data_in_leaf=21),\n",
    "    param_grid=param_test3,\n",
    "    scoring='roc_auc',\n",
    "    cv=5,\n",
    "    n_jobs=-1)\n",
    "grid3.fit(x_train, y_train)\n",
    "grid3.best_estimator_, grid3.best_params_, grid3.best_score_"
   ]
  },
  {
   "cell_type": "code",
   "execution_count": 25,
   "metadata": {},
   "outputs": [
    {
     "data": {
      "text/plain": [
       "(LGBMClassifier(bagging_fraction=0.8, bagging_freq=10, boosting_type='gbdt',\n",
       "                booting='gbdt', class_weight=None, colsample_bytree=1.0,\n",
       "                feature_fraction=0.7, importance_type='split', lambda_l1=1.0,\n",
       "                lambda_l2=0.7, learning_rate=0.1, matrics='auc', max_depth=5,\n",
       "                min_child_samples=20, min_child_weight=0.001, min_data_in=5,\n",
       "                min_data_in_leaf=21, min_split_gain=0.0, n_estimators=44,\n",
       "                n_jobs=-1, num_leaves=10, objective='binary', random_state=None,\n",
       "                reg_alpha=0.0, reg_lambda=0.0, silent=True, subsample=1.0,\n",
       "                subsample_for_bin=200000, subsample_freq=0),\n",
       " {'lambda_l1': 1.0, 'lambda_l2': 0.7},\n",
       " 0.6800021237308369)"
      ]
     },
     "execution_count": 25,
     "metadata": {},
     "output_type": "execute_result"
    }
   ],
   "source": [
    "# 第五步 确定lambda_l1 和lambda_l2\n",
    "params_test4 = {\n",
    "    'lambda_l1': [1e-5, 1e-3, 1e-1, 0.0, 0.1, 0.3, 0.5, 0.7, 0.9, 1.0],\n",
    "    'lambda_l2': [1e-5, 1e-3, 1e-1, 0.0, 0.1, 0.3, 0.5, 0.7, 0.9, 1.0]\n",
    "}\n",
    "\n",
    "grid4 = GridSearchCV(\n",
    "    estimator=lgb.LGBMClassifier(\n",
    "        booting='gbdt',\n",
    "        objective='binary',\n",
    "        matrics='auc',\n",
    "        learning_rate=0.1,\n",
    "        n_estimators=44,\n",
    "        max_depth=5,\n",
    "        num_leaves=10,\n",
    "        min_data_in=5,\n",
    "        min_data_in_leaf=21,\n",
    "        bagging_fraction=0.8,\n",
    "        bagging_freq=10,\n",
    "        feature_fraction=0.7),\n",
    "    param_grid=params_test4,\n",
    "    scoring='roc_auc',\n",
    "    cv=5,\n",
    "    n_jobs=-1)\n",
    "grid4.fit(x_train, y_train)\n",
    "grid4.best_estimator_, grid4.best_params_, grid4.best_score_"
   ]
  },
  {
   "cell_type": "code",
   "execution_count": 26,
   "metadata": {},
   "outputs": [
    {
     "data": {
      "text/plain": [
       "(LGBMClassifier(bagging_fraction=0.8, bagging_freq=10, boosting_type='gbdt',\n",
       "                class_weight=None, colsample_bytree=1.0, feature_fraction=0.7,\n",
       "                importance_type='split', lambda_l1=0.1, lambda_l2=0.1,\n",
       "                learning_rate=0.1, matics='auc', max_depth=5,\n",
       "                min_child_samples=20, min_child_weight=0.001,\n",
       "                min_data_in_leaf=21, min_split_gain=0.6, n_estimators=44,\n",
       "                n_jobs=-1, num_leaves=10, objective='binary', random_state=None,\n",
       "                reg_alpha=0.0, reg_lambda=0.0, silent=True, subsample=1.0,\n",
       "                subsample_for_bin=200000, subsample_freq=0),\n",
       " {'min_split_gain': 0.6},\n",
       " 0.6773909779994998)"
      ]
     },
     "execution_count": 26,
     "metadata": {},
     "output_type": "execute_result"
    }
   ],
   "source": [
    "# 第六步 确定min_split_gain\n",
    "param_test5 = {'min_split_gain':[0.0,0.1,0.2,0.3,0.4,0.5,0.6,0.7,0.8,0.9,1.0]}\n",
    "grid5 = GridSearchCV(estimator = lgb.LGBMClassifier(boosting_type = 'gbdt', objective= 'binary', matics = 'auc', learning_rate = 0.1, n_estimators = 44, max_depth = 5, num_leaves = 10, min_data_in_leaf = 21, bagging_fraction = 0.8, bagging_freq = 10, feature_fraction = 0.7, lambda_l1 = 0.1, lambda_l2 = 0.1), param_grid = param_test5, scoring='roc_auc', cv = 5, n_jobs = -1)\n",
    "grid5.fit(x_train, y_train)\n",
    "grid5.best_estimator_, grid5.best_params_, grid5.best_score_"
   ]
  },
  {
   "cell_type": "code",
   "execution_count": 28,
   "metadata": {},
   "outputs": [
    {
     "data": {
      "image/png": "[encoded data removed]",
      "text/plain": [
       "<Figure size 432x288 with 1 Axes>"
      ]
     },
     "metadata": {
      "needs_background": "light"
     },
     "output_type": "display_data"
    }
   ],
   "source": [
    "#降低学习率 增加迭代次数 在验证集上检验\n",
    "model2 = lgb.LGBMClassifier(\n",
    "    boosting_type='gbdt',\n",
    "    objective='binary',\n",
    "    matrics='auc',\n",
    "    n_estimators=1000,\n",
    "    learning_rate=0.01,\n",
    "    max_depth=5,\n",
    "    num_leaves=10,\n",
    "    min_data_in_leaf=21,\n",
    "    bagging_fraction=0.8,\n",
    "    bagging_freq=10,\n",
    "    feature_ftaction=0.7,\n",
    "    lambda_l1=0.1,\n",
    "    lambda_l2=0.1,\n",
    "    min_split_gain=0.1)\n",
    "ks_train, ks_test, prediction = ks_plot(x_train, y_train, x_test, y_test, model2)"
   ]
  },
  {
   "cell_type": "code",
   "execution_count": 30,
   "metadata": {},
   "outputs": [
    {
     "data": {
      "text/plain": [
       "(0.3924898303802478, 0.26848753115479157)"
      ]
     },
     "execution_count": 30,
     "metadata": {},
     "output_type": "execute_result"
    }
   ],
   "source": [
    "ks_train, ks_test"
   ]
  },
  {
   "cell_type": "code",
   "execution_count": 31,
   "metadata": {},
   "outputs": [
    {
     "data": {
      "image/png": "[encoded data removed]",
      "text/plain": [
       "<Figure size 432x288 with 1 Axes>"
      ]
     },
     "metadata": {
      "needs_background": "light"
     },
     "output_type": "display_data"
    }
   ],
   "source": [
    "# 最后一步 评分\n",
    "def score(p):\n",
    "    score = 350 + 50 *(np.log2((1-p)/p))\n",
    "    return score\n",
    "x_test['score'] = score(prediction)\n",
    "plt.hist(x_test['score'], 100)\n",
    "plt.xlabel('score')\n",
    "plt.ylabel('freq')\n",
    "plt.title('distribution')\n",
    "plt.show()\n",
    "    "
   ]
  }
 ],
 "metadata": {
  "kernelspec": {
   "display_name": "Python 3",
   "language": "python",
   "name": "python3"
  },
  "language_info": {
   "codemirror_mode": {
    "name": "ipython",
    "version": 3
   },
   "file_extension": ".py",
   "mimetype": "text/x-python",
   "name": "python",
   "nbconvert_exporter": "python",
   "pygments_lexer": "ipython3",
   "version": "3.7.2"
  }
 },
 "nbformat": 4,
 "nbformat_minor": 2
}
